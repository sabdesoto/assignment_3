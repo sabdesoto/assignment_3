{
 "cells": [
  {
   "cell_type": "code",
   "execution_count": 2,
   "metadata": {
    "collapsed": false
   },
   "outputs": [],
   "source": [
    "word= 'supercalifragilisticexpialidocious'"
   ]
  },
  {
   "cell_type": "code",
   "execution_count": 11,
   "metadata": {
    "collapsed": false
   },
   "outputs": [
    {
     "name": "stdout",
     "output_type": "stream",
     "text": [
      "First word is the first 5 letters: super\n",
      "Second word is: ice\n",
      "Third word is: us\n"
     ]
    }
   ],
   "source": [
    "print('First word is the first 5 letters:', word[0:5])\n",
    "print('Second word is:', word[18:21])\n",
    "print('Third word is:', word[-2:])"
   ]
  },
  {
   "cell_type": "code",
   "execution_count": 51,
   "metadata": {
    "collapsed": false
   },
   "outputs": [
    {
     "name": "stdout",
     "output_type": "stream",
     "text": [
      "the mean of the list is: 6.0\n"
     ]
    }
   ],
   "source": [
    "even=[2 ,4 ,6 ,8 ,10 ]\n",
    "even_mean=(even[0]+even[1]+even[2]+even[3]+even[4])/5\n",
    "print('the mean of the list is:', even_mean)"
   ]
  },
  {
   "cell_type": "code",
   "execution_count": 60,
   "metadata": {
    "collapsed": false
   },
   "outputs": [
    {
     "name": "stdout",
     "output_type": "stream",
     "text": [
      "the even variance is 8.0\n",
      "the even standard deviation is 2.8284271247461903\n"
     ]
    }
   ],
   "source": [
    "squared_difference1=(even[0]-even_mean)**2\n",
    "squared_difference2=(even[1]-even_mean)**2\n",
    "squared_difference3=(even[2]-even_mean)**2\n",
    "squared_difference4=(even[3]-even_mean)**2\n",
    "squared_difference5=(even[4]-even_mean)**2\n",
    "variance= (squared_difference1+squared_difference2+squared_difference3+squared_difference4+squared_difference5)/5\n",
    "print('the even variance is', variance)\n",
    "standard_deviation=(variance)**(1/2)\n",
    "print('the even standard deviation is', standard_deviation)"
   ]
  },
  {
   "cell_type": "code",
   "execution_count": null,
   "metadata": {
    "collapsed": true
   },
   "outputs": [],
   "source": []
  }
 ],
 "metadata": {
  "kernelspec": {
   "display_name": "Python 3",
   "language": "python",
   "name": "python3"
  },
  "language_info": {
   "codemirror_mode": {
    "name": "ipython",
    "version": 3
   },
   "file_extension": ".py",
   "mimetype": "text/x-python",
   "name": "python",
   "nbconvert_exporter": "python",
   "pygments_lexer": "ipython3",
   "version": "3.4.3"
  }
 },
 "nbformat": 4,
 "nbformat_minor": 0
}
